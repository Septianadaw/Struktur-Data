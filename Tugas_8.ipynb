{
  "nbformat": 4,
  "nbformat_minor": 0,
  "metadata": {
    "colab": {
      "provenance": [],
      "authorship_tag": "ABX9TyM+FMCzQrREIgx+GG/62ZBX",
      "include_colab_link": true
    },
    "kernelspec": {
      "name": "python3",
      "display_name": "Python 3"
    },
    "language_info": {
      "name": "python"
    }
  },
  "cells": [
    {
      "cell_type": "markdown",
      "metadata": {
        "id": "view-in-github",
        "colab_type": "text"
      },
      "source": [
        "<a href=\"https://colab.research.google.com/github/Septianadaw/Struktur-Data/blob/main/Tugas_8.ipynb\" target=\"_parent\"><img src=\"https://colab.research.google.com/assets/colab-badge.svg\" alt=\"Open In Colab\"/></a>"
      ]
    },
    {
      "cell_type": "code",
      "source": [
        "# 1. graf tak berarah baru dengan minimal 5 simpul dan 7 sisi, lalu tampilkan dengan fungsi print_graph.\n",
        "graph = {\n",
        "    'A': ['B', 'D'],       # A–B, A–D\n",
        "    'B': ['A', 'C', 'E'],  # B–C, B–E\n",
        "    'C': ['B', 'D', 'E'],  # C–D, C–E\n",
        "    'D': ['A', 'C', 'E'],  # D–E\n",
        "    'E': ['B', 'C', 'D']   # Total : 7 sisi dan 5 simpul\n",
        "}\n",
        "\n",
        "def print_graph(graph):\n",
        "    for node in graph:\n",
        "        print(f\"{node} -> {graph[node]}\")\n",
        "\n",
        "# Menampilkan graf\n",
        "print(\"Graf Tak Berarah (5 simpul, 7 sisi):\")\n",
        "print_graph(graph)"
      ],
      "metadata": {
        "colab": {
          "base_uri": "https://localhost:8080/"
        },
        "id": "SaRCDUBGSbWD",
        "outputId": "3550bda1-0c37-4d29-d6ae-d3a959a8018d"
      },
      "execution_count": 38,
      "outputs": [
        {
          "output_type": "stream",
          "name": "stdout",
          "text": [
            "Graf Tak Berarah (5 simpul, 7 sisi):\n",
            "A -> ['B', 'D']\n",
            "B -> ['A', 'C', 'E']\n",
            "C -> ['B', 'D', 'E']\n",
            "D -> ['A', 'C', 'E']\n",
            "E -> ['B', 'C', 'D']\n"
          ]
        }
      ]
    },
    {
      "cell_type": "code",
      "source": [
        "# 2. Implementasikan BFS dan DFS\n",
        "from collections import deque\n",
        "\n",
        "# BFS\n",
        "def bfs(graph, start):\n",
        "    visited = set()\n",
        "    queue = deque([start])\n",
        "\n",
        "    while queue:\n",
        "        vertex = queue.popleft()\n",
        "        if vertex not in visited:\n",
        "            print(vertex, end=' ')\n",
        "            visited.add(vertex)\n",
        "            queue.extend([neighbor for neighbor in graph[vertex] if neighbor not in visited])\n",
        "\n",
        "# DFS\n",
        "def dfs(graph, start, visited=None):\n",
        "    if visited is None:\n",
        "        visited = set()\n",
        "\n",
        "    if start not in visited:\n",
        "        print(start, end=\" \")\n",
        "        visited.add(start)\n",
        "        for neighbor in graph[start]:\n",
        "            dfs(graph, neighbor, visited)\n",
        "\n",
        "# Contoh pemanggilan\n",
        "print(\"BFS dari simpul A:\")\n",
        "bfs(graph, 'A')\n",
        "\n",
        "print(\"\\nDFS dari simpul A:\")\n",
        "dfs(graph, 'A')"
      ],
      "metadata": {
        "colab": {
          "base_uri": "https://localhost:8080/"
        },
        "id": "WFOh7QUtV026",
        "outputId": "b9bf7e36-a797-4771-8d81-3dd5667f7c04"
      },
      "execution_count": 37,
      "outputs": [
        {
          "output_type": "stream",
          "name": "stdout",
          "text": [
            "BFS dari simpul A:\n",
            "A B D C E \n",
            "DFS dari simpul A:\n",
            "A B C D E "
          ]
        }
      ]
    },
    {
      "cell_type": "code",
      "source": [
        "# 3. Modifikasi fungsi BFS agar mengembalikan list urutan kunjungan, bukan hanya mencetak.\n",
        "from collections import deque\n",
        "\n",
        "# BFS yang mengembalikan list urutan kunjungan\n",
        "def bfs_modified(graph, start):\n",
        "    visited = set()\n",
        "    queue = deque([start])\n",
        "    visit_order = []\n",
        "\n",
        "    while queue:\n",
        "        vertex = queue.popleft()\n",
        "        if vertex not in visited:\n",
        "            visited.add(vertex)\n",
        "            visit_order.append(vertex)\n",
        "            queue.extend([neighbor for neighbor in graph[vertex] if neighbor not in visited])\n",
        "\n",
        "    return visit_order\n",
        "\n",
        "# Contoh pemanggilan\n",
        "print(\"Urutan kunjungan BFS dari A:\")\n",
        "print(bfs_modified(graph, 'A'))"
      ],
      "metadata": {
        "colab": {
          "base_uri": "https://localhost:8080/"
        },
        "id": "zCXEwjMkWp4W",
        "outputId": "f430d399-276e-4662-c090-7444f7bf96fa"
      },
      "execution_count": 39,
      "outputs": [
        {
          "output_type": "stream",
          "name": "stdout",
          "text": [
            "Urutan kunjungan BFS dari A:\n",
            "['A', 'B', 'D', 'C', 'E']\n"
          ]
        }
      ]
    },
    {
      "cell_type": "code",
      "source": [
        "# 4. fungsi find_path(graph, start, end) yang mengembalikan satu jalur dari start ke end jika ada, menggunakan DFS.\n",
        "# Fungsi untuk mencari satu jalur dari start ke end menggunakan DFS\n",
        "def find_path(graph, start, end, path=None):\n",
        "    if path is None:\n",
        "        path = []\n",
        "\n",
        "    path = path + [start]\n",
        "\n",
        "    if start == end:\n",
        "        return path\n",
        "\n",
        "    for neighbor in graph[start]:\n",
        "        if neighbor not in path:\n",
        "            new_path = find_path(graph, neighbor, end, path)\n",
        "            if new_path:\n",
        "                return new_path\n",
        "\n",
        "    return None\n",
        "\n",
        "# Contoh pemanggilan\n",
        "print(\"Jalur dari A ke F:\")\n",
        "print(find_path(graph, 'A', 'F'))  # F tidak ada, akan return None\n",
        "\n",
        "print(\"Jalur dari A ke E:\")\n",
        "print(find_path(graph, 'A', 'E'))"
      ],
      "metadata": {
        "colab": {
          "base_uri": "https://localhost:8080/"
        },
        "id": "185kX7ERXfuW",
        "outputId": "0ae28229-c50a-4805-a3f3-3b2326df6396"
      },
      "execution_count": 40,
      "outputs": [
        {
          "output_type": "stream",
          "name": "stdout",
          "text": [
            "Jalur dari A ke F:\n",
            "None\n",
            "Jalur dari A ke E:\n",
            "['A', 'B', 'C', 'D', 'E']\n"
          ]
        }
      ]
    },
    {
      "cell_type": "code",
      "source": [
        "# 5. fungsi is_connected(graph) untuk mengecek apakah semua simpul dalam graf saling terhubung (gunakan kombinasi DFS + logika).\n",
        "def is_connected(graph):\n",
        "    visited = set()\n",
        "\n",
        "    def dfs_visit(node):\n",
        "        if node not in visited:\n",
        "            visited.add(node)\n",
        "            for neighbor in graph[node]:\n",
        "                dfs_visit(neighbor)\n",
        "\n",
        "    # mulai dari simpul pertama\n",
        "    start_node = next(iter(graph))\n",
        "    dfs_visit(start_node)\n",
        "\n",
        "    return len(visited) == len(graph)\n",
        "\n",
        "print(\"Traversal DFS mulai dari simpul A:\")\n",
        "visited = dfs(graph, 'A')\n",
        "print()\n",
        "print(\"\\nApakah graf terhubung?\")\n",
        "print(is_connected(graph))"
      ],
      "metadata": {
        "colab": {
          "base_uri": "https://localhost:8080/"
        },
        "id": "7LYW3Fd0Z7t4",
        "outputId": "cf249d46-86ce-4da2-f635-aa1b29914970"
      },
      "execution_count": 41,
      "outputs": [
        {
          "output_type": "stream",
          "name": "stdout",
          "text": [
            "Traversal DFS mulai dari simpul A:\n",
            "A B C D E \n",
            "\n",
            "Apakah graf terhubung?\n",
            "True\n"
          ]
        }
      ]
    }
  ]
}