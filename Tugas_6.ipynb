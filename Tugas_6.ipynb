{
  "nbformat": 4,
  "nbformat_minor": 0,
  "metadata": {
    "colab": {
      "provenance": [],
      "authorship_tag": "ABX9TyP5Ve5OefCVROANncU930HL",
      "include_colab_link": true
    },
    "kernelspec": {
      "name": "python3",
      "display_name": "Python 3"
    },
    "language_info": {
      "name": "python"
    }
  },
  "cells": [
    {
      "cell_type": "markdown",
      "metadata": {
        "id": "view-in-github",
        "colab_type": "text"
      },
      "source": [
        "<a href=\"https://colab.research.google.com/github/Septianadaw/Struktur-Data/blob/main/Tugas_6.ipynb\" target=\"_parent\"><img src=\"https://colab.research.google.com/assets/colab-badge.svg\" alt=\"Open In Colab\"/></a>"
      ]
    },
    {
      "cell_type": "code",
      "source": [
        "# Implementasi Merge Sort untuk pengurutan data pelanggan\n",
        "def merge_sort(data, key):\n",
        "    if len(data) > 1:\n",
        "        mid = len(data) // 2\n",
        "        left_half = data[:mid]\n",
        "        right_half = data[mid:]\n",
        "\n",
        "        merge_sort(left_half, key)\n",
        "        merge_sort(right_half, key)\n",
        "\n",
        "        i = j = k = 0\n",
        "\n",
        "        while i < len(left_half) and j < len(right_half):\n",
        "            if left_half[i][key] < right_half[j][key]:\n",
        "                data[k] = left_half[i]\n",
        "                i += 1\n",
        "            else:\n",
        "                data[k] = right_half[j]\n",
        "                j += 1\n",
        "            k += 1\n",
        "\n",
        "        while i < len(left_half):\n",
        "            data[k] = left_half[i]\n",
        "            i += 1\n",
        "            k += 1\n",
        "\n",
        "        while j < len(right_half):\n",
        "            data[k] = right_half[j]\n",
        "            j += 1\n",
        "            k += 1\n",
        "\n",
        "    return data\n",
        "\n",
        "# Data pelanggan (nama, umur, total belanja)\n",
        "customers = [\n",
        "    {\"nama\": \"Faezya\", \"umur\": 25, \"total_belanja\": 500000},\n",
        "    {\"nama\": \"Andi\", \"umur\": 22, \"total_belanja\": 100000},\n",
        "    {\"nama\": \"Siti\", \"umur\": 30, \"total_belanja\": 1200000},\n",
        "    {\"nama\": \"Lintang\", \"umur\": 28, \"total_belanja\": 600000},\n",
        "    {\"nama\": \"septiana\", \"umur\": 25, \"total_belanja\": 900000},\n",
        "    {\"nama\": \"Diyah\", \"umur\": 19, \"total_belanja\": 800000},\n",
        "    {\"nama\": \"Ayu\", \"umur\": 25, \"total_belanja\": 1500000},\n",
        "    {\"nama\": \"Wulandari\", \"umur\": 21, \"total_belanja\": 900000},\n",
        "]\n",
        "\n",
        "# Mengurutkan data pelanggan berdasarkan Nama (A-Z)\n",
        "sorted_data = merge_sort(customers.copy(), \"nama\")\n",
        "print(\"Data pelanggan setelah diurutkan berdasarkan Nama (A-Z):\")\n",
        "for i in sorted_data:\n",
        "    print(i)\n",
        "\n",
        "# Mengurutkan data pelanggan berdasarkan Umur (termuda ke tertua)\n",
        "sorted_data = merge_sort(customers.copy(), \"umur\")\n",
        "print(\"\\nData pelanggan setelah diurutkan berdasarkan Umur (termuda ke tertua):\")\n",
        "for i in sorted_data:\n",
        "    print(i)\n",
        "\n",
        "# Mengurutkan data pelanggan berdasarkan Total Belanja (dari terkecil ke terbesar)\n",
        "sorted_data = merge_sort(customers.copy(), \"total_belanja\")\n",
        "print(\"\\nData pelanggan setelah diurutkan berdasarkan Total Belanja (dari terkecil ke terbesar):\")\n",
        "for i in sorted_data:\n",
        "    print(i)"
      ],
      "metadata": {
        "colab": {
          "base_uri": "https://localhost:8080/"
        },
        "id": "w_peI8vsnXlL",
        "outputId": "24c7a260-7093-4634-8170-29e48e57ddb0"
      },
      "execution_count": 4,
      "outputs": [
        {
          "output_type": "stream",
          "name": "stdout",
          "text": [
            "Data pelanggan setelah diurutkan berdasarkan Nama (A-Z):\n",
            "{'nama': 'Andi', 'umur': 22, 'total_belanja': 100000}\n",
            "{'nama': 'Ayu', 'umur': 25, 'total_belanja': 1500000}\n",
            "{'nama': 'Diyah', 'umur': 19, 'total_belanja': 800000}\n",
            "{'nama': 'Faezya', 'umur': 25, 'total_belanja': 500000}\n",
            "{'nama': 'Lintang', 'umur': 28, 'total_belanja': 600000}\n",
            "{'nama': 'Siti', 'umur': 30, 'total_belanja': 1200000}\n",
            "{'nama': 'Wulandari', 'umur': 21, 'total_belanja': 900000}\n",
            "{'nama': 'septiana', 'umur': 25, 'total_belanja': 900000}\n",
            "\n",
            "Data pelanggan setelah diurutkan berdasarkan Umur (termuda ke tertua):\n",
            "{'nama': 'Diyah', 'umur': 19, 'total_belanja': 800000}\n",
            "{'nama': 'Wulandari', 'umur': 21, 'total_belanja': 900000}\n",
            "{'nama': 'Andi', 'umur': 22, 'total_belanja': 100000}\n",
            "{'nama': 'Ayu', 'umur': 25, 'total_belanja': 1500000}\n",
            "{'nama': 'septiana', 'umur': 25, 'total_belanja': 900000}\n",
            "{'nama': 'Faezya', 'umur': 25, 'total_belanja': 500000}\n",
            "{'nama': 'Lintang', 'umur': 28, 'total_belanja': 600000}\n",
            "{'nama': 'Siti', 'umur': 30, 'total_belanja': 1200000}\n",
            "\n",
            "Data pelanggan setelah diurutkan berdasarkan Total Belanja (dari terkecil ke terbesar):\n",
            "{'nama': 'Andi', 'umur': 22, 'total_belanja': 100000}\n",
            "{'nama': 'Faezya', 'umur': 25, 'total_belanja': 500000}\n",
            "{'nama': 'Lintang', 'umur': 28, 'total_belanja': 600000}\n",
            "{'nama': 'Diyah', 'umur': 19, 'total_belanja': 800000}\n",
            "{'nama': 'Wulandari', 'umur': 21, 'total_belanja': 900000}\n",
            "{'nama': 'septiana', 'umur': 25, 'total_belanja': 900000}\n",
            "{'nama': 'Siti', 'umur': 30, 'total_belanja': 1200000}\n",
            "{'nama': 'Ayu', 'umur': 25, 'total_belanja': 1500000}\n"
          ]
        }
      ]
    }
  ]
}