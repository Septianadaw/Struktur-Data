{
  "nbformat": 4,
  "nbformat_minor": 0,
  "metadata": {
    "colab": {
      "provenance": [],
      "authorship_tag": "ABX9TyPJ5Un7SPDfdvzFRLTj1WV/",
      "include_colab_link": true
    },
    "kernelspec": {
      "name": "python3",
      "display_name": "Python 3"
    },
    "language_info": {
      "name": "python"
    }
  },
  "cells": [
    {
      "cell_type": "markdown",
      "metadata": {
        "id": "view-in-github",
        "colab_type": "text"
      },
      "source": [
        "<a href=\"https://colab.research.google.com/github/Septianadaw/Struktur-Data/blob/main/WEEK_1.ipynb\" target=\"_parent\"><img src=\"https://colab.research.google.com/assets/colab-badge.svg\" alt=\"Open In Colab\"/></a>"
      ]
    },
    {
      "cell_type": "code",
      "execution_count": null,
      "metadata": {
        "id": "HC4pfnH6EPgl",
        "colab": {
          "base_uri": "https://localhost:8080/"
        },
        "outputId": "a0974838-dadd-4a18-8e29-f86c3172c3bb"
      },
      "outputs": [
        {
          "output_type": "stream",
          "name": "stdout",
          "text": [
            "Array dengan list: [10, 20, 30, 40, 50]\n"
          ]
        }
      ],
      "source": [
        "# Deklarasi array dengan menggunakan list\n",
        "angka = [10, 20, 30, 40, 50]\n",
        "print(\"Array dengan list:\", angka)"
      ]
    },
    {
      "cell_type": "code",
      "source": [
        "import array\n",
        "angka = array.array('i', [10, 20, 30, 40, 50])\n",
        "print(\"Array dengan modul array:\", angka)"
      ],
      "metadata": {
        "id": "YEv8GnAUFIke",
        "colab": {
          "base_uri": "https://localhost:8080/"
        },
        "outputId": "b1f13c86-d048-4235-bfc6-5a0ec3d73917"
      },
      "execution_count": null,
      "outputs": [
        {
          "output_type": "stream",
          "name": "stdout",
          "text": [
            "Array dengan modul array: array('i', [10, 20, 30, 40, 50])\n"
          ]
        }
      ]
    },
    {
      "cell_type": "code",
      "source": [
        "import numpy as np\n",
        "angka = np.array([10, 20, 30, 40, 50])\n",
        "print(\"Array dengan numpy:\", angka)"
      ],
      "metadata": {
        "id": "-eZ-I12yIVqg",
        "colab": {
          "base_uri": "https://localhost:8080/"
        },
        "outputId": "ce2d1a40-5701-40f6-814f-b1916f494d66"
      },
      "execution_count": null,
      "outputs": [
        {
          "output_type": "stream",
          "name": "stdout",
          "text": [
            "Array dengan numpy: [10 20 30 40 50]\n"
          ]
        }
      ]
    },
    {
      "cell_type": "code",
      "source": [
        "import numpy as np\n",
        "angka = np.array([1, 2, 3, 4, 5])\n",
        "print(\"Array satu dimensi:\", angka)"
      ],
      "metadata": {
        "id": "tK2wEHDsJUX-",
        "colab": {
          "base_uri": "https://localhost:8080/"
        },
        "outputId": "f29febd8-c451-426e-8790-b8bac62a0b1a"
      },
      "execution_count": null,
      "outputs": [
        {
          "output_type": "stream",
          "name": "stdout",
          "text": [
            "Array satu dimensi: [1 2 3 4 5]\n"
          ]
        }
      ]
    },
    {
      "cell_type": "code",
      "source": [
        "import numpy as np\n",
        "matriks = np.array([[1, 2], [3, 4], [5, 6]])\n",
        "print(\"Array dua dimensi:\", matriks)"
      ],
      "metadata": {
        "id": "6vGUPkG3RVQ6",
        "colab": {
          "base_uri": "https://localhost:8080/"
        },
        "outputId": "45d04556-f889-488f-c1c8-2517df18d996"
      },
      "execution_count": null,
      "outputs": [
        {
          "output_type": "stream",
          "name": "stdout",
          "text": [
            "Array dua dimensi: [[1 2]\n",
            " [3 4]\n",
            " [5 6]]\n"
          ]
        }
      ]
    },
    {
      "cell_type": "code",
      "source": [
        "array3D = np.array([[[1, 2], [3, 4]], [[5, 6], [7, 8]]])\n",
        "print(\"Array tiga dimensi:\", array3D)"
      ],
      "metadata": {
        "id": "irwA0xBSKJrP",
        "colab": {
          "base_uri": "https://localhost:8080/"
        },
        "outputId": "2a6adb61-0027-4fb3-c213-0d9287a65c14"
      },
      "execution_count": null,
      "outputs": [
        {
          "output_type": "stream",
          "name": "stdout",
          "text": [
            "Array tiga dimensi: [[[1 2]\n",
            "  [3 4]]\n",
            "\n",
            " [[5 6]\n",
            "  [7 8]]]\n"
          ]
        }
      ]
    },
    {
      "cell_type": "code",
      "source": [
        "# Deklarasi array kosong\n",
        "angka = []\n",
        "# Inisialisasi array dengan elemen\n",
        "angka = [10, 20, 30, 40, 50]\n",
        "# Akses elemen\n",
        "print (\"Elemen pertama:\", angka[0])\n",
        "print (\"Elemen terakhir:\", angka[-1])\n",
        "#Menambahkan elemen baru\n",
        "angka.append(60)\n",
        "print (\"Setelah append:\", angka)\n",
        "# Menghapus elemen\n",
        "angka.remove (30)\n",
        "print (\"Setelah remove:\", angka)\n",
        "# Iterasi array\n",
        "for nilai in angka:\n",
        "    print (\"Nilai:\", nilai)"
      ],
      "metadata": {
        "id": "z27DAdaII4Zt",
        "colab": {
          "base_uri": "https://localhost:8080/"
        },
        "outputId": "e1ef2683-1ec4-442e-a70d-5a6b51f7c6f0"
      },
      "execution_count": null,
      "outputs": [
        {
          "output_type": "stream",
          "name": "stdout",
          "text": [
            "Elemen pertama: 10\n",
            "Elemen terakhir: 50\n",
            "Setelah append: [10, 20, 30, 40, 50, 60]\n",
            "Setelah remove: [10, 20, 40, 50, 60]\n",
            "Nilai: 10\n",
            "Nilai: 20\n",
            "Nilai: 40\n",
            "Nilai: 50\n",
            "Nilai: 60\n"
          ]
        }
      ]
    },
    {
      "cell_type": "markdown",
      "source": [
        "LANGKAH PRAKTIKUM"
      ],
      "metadata": {
        "id": "97geInexLcMX"
      }
    },
    {
      "cell_type": "code",
      "source": [
        "# Deklarasi array kosong\n",
        "data =[]\n",
        "\n",
        "# Inisialisasi array dengan elemen\n",
        "angka = [10, 20, 30, 40, 50]\n",
        "\n",
        "# Menampilkan isi array\n",
        "print(\"Isi array angka:\", angka)"
      ],
      "metadata": {
        "id": "ROH1PRApK9hQ",
        "colab": {
          "base_uri": "https://localhost:8080/"
        },
        "outputId": "d4d4caa6-2461-4c0e-d511-28ee928b09f0"
      },
      "execution_count": null,
      "outputs": [
        {
          "output_type": "stream",
          "name": "stdout",
          "text": [
            "Isi array angka: [10, 20, 30, 40, 50]\n"
          ]
        }
      ]
    },
    {
      "cell_type": "code",
      "source": [
        "# Latihan 1\n",
        "Data = []\n",
        "NPM = [2410506009, 2410506010, 2410506011, 2410506012, 2410506013]\n",
        "print(\"isi NPM sebelum saya:\")\n",
        "\n",
        "for i in NPM:\n",
        "  print(i)"
      ],
      "metadata": {
        "id": "-MLmQlE8MSaQ",
        "colab": {
          "base_uri": "https://localhost:8080/"
        },
        "outputId": "c478b602-9543-405a-d543-4f4ffbb22356"
      },
      "execution_count": null,
      "outputs": [
        {
          "output_type": "stream",
          "name": "stdout",
          "text": [
            "isi NPM sebelum saya:\n",
            "2410506009\n",
            "2410506010\n",
            "2410506011\n",
            "2410506012\n",
            "2410506013\n"
          ]
        }
      ]
    },
    {
      "cell_type": "code",
      "source": [
        "# Mengakses elemen Array\n",
        "print(\"Elemen pertama:\", angka[0]) # Elemen pertama\n",
        "print(\"Elemen terakhir:\", angka[-1]) # Elemen terakhir"
      ],
      "metadata": {
        "id": "Fk53Uee9MwY4",
        "colab": {
          "base_uri": "https://localhost:8080/"
        },
        "outputId": "83cd5bbd-4176-4e2b-b78b-6c8beb6cd935"
      },
      "execution_count": null,
      "outputs": [
        {
          "output_type": "stream",
          "name": "stdout",
          "text": [
            "Elemen pertama: 10\n",
            "Elemen terakhir: 50\n"
          ]
        }
      ]
    },
    {
      "cell_type": "code",
      "source": [
        "# Menambah elemen menggunakan append()\n",
        "angka.append(60)\n",
        "print(\"Array setelah penambahan elemen:\", angka)"
      ],
      "metadata": {
        "id": "WN2qB2c4RHi4",
        "colab": {
          "base_uri": "https://localhost:8080/"
        },
        "outputId": "2d82d5d0-057d-4fd0-e354-0e684afeb9ea"
      },
      "execution_count": null,
      "outputs": [
        {
          "output_type": "stream",
          "name": "stdout",
          "text": [
            "Array setelah penambahan elemen: [10, 20, 30, 40, 50, 60]\n"
          ]
        }
      ]
    },
    {
      "cell_type": "code",
      "source": [
        "# Menambahkan elemen dengan menggunakan insert\n",
        "angka.insert(2, 25) # Menyisipkan 25 di indeks ke-2\n",
        "print(\"Array setelah penambahan elemen dengan insert:\", angka)"
      ],
      "metadata": {
        "id": "s1qaA4Y3RbAv",
        "colab": {
          "base_uri": "https://localhost:8080/"
        },
        "outputId": "218eff74-5f87-43e9-f28e-38273f09addf"
      },
      "execution_count": null,
      "outputs": [
        {
          "output_type": "stream",
          "name": "stdout",
          "text": [
            "Array setelah penambahan elemen dengan insert: [10, 20, 25, 30, 40, 50, 60]\n"
          ]
        }
      ]
    },
    {
      "cell_type": "code",
      "source": [
        "# Menghapus elemen dengan menggunakan remove()\n",
        "angka.remove(25) # Menghapus angka 25\n",
        "print(\"Array setelah menghapus elemen 25:\", angka)"
      ],
      "metadata": {
        "id": "qLYzO9f8SKC4",
        "colab": {
          "base_uri": "https://localhost:8080/"
        },
        "outputId": "b89bd88b-8521-4219-ac39-2eae1dd1329c"
      },
      "execution_count": null,
      "outputs": [
        {
          "output_type": "stream",
          "name": "stdout",
          "text": [
            "Array setelah menghapus elemen 25: [10, 20, 30, 40, 50, 60]\n"
          ]
        }
      ]
    },
    {
      "cell_type": "code",
      "source": [
        "# Menghapus elemen dengan menggunakan pop()\n",
        "angka.pop(2) # Menghapus elemen pada indeks ke-2\n",
        "print(\"Array setelah menghapus elemen pada indeks ke-2:\", angka)"
      ],
      "metadata": {
        "id": "K6ALitZtS2wQ",
        "colab": {
          "base_uri": "https://localhost:8080/"
        },
        "outputId": "aa7b6145-2345-418c-d055-0e5482ca1c14"
      },
      "execution_count": null,
      "outputs": [
        {
          "output_type": "stream",
          "name": "stdout",
          "text": [
            "Array setelah menghapus elemen pada indeks ke-2: [10, 20, 40, 50, 60]\n"
          ]
        }
      ]
    },
    {
      "cell_type": "code",
      "source": [
        "# Mengubah elemen pada indeks 0\n",
        "angka[0] = 100\n",
        "print(\"Array setelah mengubah elemen pertama:\", angka)"
      ],
      "metadata": {
        "id": "0aX5B5CqTqQw",
        "colab": {
          "base_uri": "https://localhost:8080/"
        },
        "outputId": "7b7504a6-4aae-454f-ebbf-e6c92f7c4726"
      },
      "execution_count": null,
      "outputs": [
        {
          "output_type": "stream",
          "name": "stdout",
          "text": [
            "Array setelah mengubah elemen pertama: [100, 20, 40, 50, 60]\n"
          ]
        }
      ]
    },
    {
      "cell_type": "code",
      "source": [
        "# Latihan 2\n",
        "angka.insert(2, 13)\n",
        "angka.remove(20)\n",
        "print(\"Array setelah penambahan elemen dengan insert:\", angka)"
      ],
      "metadata": {
        "id": "FhX6dpD0WlQB",
        "colab": {
          "base_uri": "https://localhost:8080/"
        },
        "outputId": "862a806f-a82f-4514-e201-28c3a1512657"
      },
      "execution_count": null,
      "outputs": [
        {
          "output_type": "stream",
          "name": "stdout",
          "text": [
            "Array setelah penambahan elemen dengan insert: [100, 13, 40, 50, 60]\n"
          ]
        }
      ]
    },
    {
      "cell_type": "code",
      "source": [
        "angka.pop(1)\n",
        "print(\"Array setelah menghapus elemen pada indeks pertama:\", angka)"
      ],
      "metadata": {
        "id": "IZv-89oiYJGa",
        "colab": {
          "base_uri": "https://localhost:8080/"
        },
        "outputId": "b04dbe28-26f3-4351-ff1c-ede6f2418a52"
      },
      "execution_count": null,
      "outputs": [
        {
          "output_type": "stream",
          "name": "stdout",
          "text": [
            "Array setelah menghapus elemen pada indeks pertama: [100, 40, 50, 60]\n"
          ]
        }
      ]
    },
    {
      "cell_type": "code",
      "source": [
        "angka = (10, 20, 30, 40)\n",
        "for nilai in angka:\n",
        "  print(\"Nilai:\", nilai)"
      ],
      "metadata": {
        "id": "kl7KeIkDV7EZ",
        "colab": {
          "base_uri": "https://localhost:8080/"
        },
        "outputId": "e856ae3b-b49b-4c28-f7b0-1c95d982ff1f"
      },
      "execution_count": null,
      "outputs": [
        {
          "output_type": "stream",
          "name": "stdout",
          "text": [
            "Nilai: 10\n",
            "Nilai: 20\n",
            "Nilai: 30\n",
            "Nilai: 40\n"
          ]
        }
      ]
    },
    {
      "cell_type": "code",
      "source": [
        "# Latihan 3\n",
        "# Daftar fakultas di Untidar\n",
        "fakultas = [\"Fakultas Teknik\", \"Fakultas Pertanian\", \"Fakultas Ekonomi\", \"Fakultas Kegururan Ilmu Pendidikan\", \"Fakultas Ilmu Sosial dan Politik\"]\n",
        "\n",
        "# Menampilkan semua fakultas menggunakan perulangan\n",
        "print(\"Daftar Fakultas di Untidar:\")\n",
        "for nama in fakultas:\n",
        "    print(nama)"
      ],
      "metadata": {
        "colab": {
          "base_uri": "https://localhost:8080/"
        },
        "id": "XFu24YGvZ0Oz",
        "outputId": "d50e0e56-d52c-4687-8295-6aeb04d387e7"
      },
      "execution_count": null,
      "outputs": [
        {
          "output_type": "stream",
          "name": "stdout",
          "text": [
            "Daftar Fakultas di Untidar:\n",
            "Fakultas Teknik\n",
            "Fakultas Pertanian\n",
            "Fakultas Ekonomi\n",
            "Fakultas Kegururan Ilmu Pendidikan\n",
            "Fakultas Ilmu Sosial dan Politik\n"
          ]
        }
      ]
    },
    {
      "cell_type": "code",
      "source": [
        "angka = (10, 20, 30, 40)\n",
        "\n",
        "print(\"Jumlah total:\", sum(angka))\n",
        "print(\"Nilai maksimum:\", max(angka))\n",
        "print(\"Nilai minimum:\", min(angka))"
      ],
      "metadata": {
        "id": "g6H4RL8HVWVA",
        "colab": {
          "base_uri": "https://localhost:8080/"
        },
        "outputId": "2d3abe5b-1ba7-4222-fa10-c26f4f965cd6"
      },
      "execution_count": null,
      "outputs": [
        {
          "output_type": "stream",
          "name": "stdout",
          "text": [
            "Jumlah total: 100\n",
            "Nilai maksimum: 40\n",
            "Nilai minimum: 10\n"
          ]
        }
      ]
    },
    {
      "cell_type": "code",
      "source": [
        "# Latihan 4\n",
        "harga_barang = [100, 400, 200, 500]\n",
        "\n",
        "print(\"Total harga barang:\", sum(harga_barang))"
      ],
      "metadata": {
        "id": "Cv88rOl7V0So",
        "colab": {
          "base_uri": "https://localhost:8080/"
        },
        "outputId": "3369dfd0-736a-435a-813b-528027f1b8b4"
      },
      "execution_count": null,
      "outputs": [
        {
          "output_type": "stream",
          "name": "stdout",
          "text": [
            "Total harga barang: 1200\n"
          ]
        }
      ]
    },
    {
      "cell_type": "code",
      "source": [
        "# Deklarasi array 2D\n",
        "matriks = [\n",
        "    [1, 2, 3],\n",
        "    [4, 5, 6],\n",
        "    [7, 8, 9]\n",
        "]\n",
        "# Menampilkan isi array 2D\n",
        "print(\"isi array 2D\") # Fixed: Removed extra spaces before print statement\n",
        "for baris in matriks:\n",
        "    print(baris)"
      ],
      "metadata": {
        "id": "7-bfthQZXLTZ",
        "colab": {
          "base_uri": "https://localhost:8080/"
        },
        "outputId": "381f3bf2-05a3-4e3d-9e68-53795ab93d05"
      },
      "execution_count": null,
      "outputs": [
        {
          "output_type": "stream",
          "name": "stdout",
          "text": [
            "isi array 2D\n",
            "[1, 2, 3]\n",
            "[4, 5, 6]\n",
            "[7, 8, 9]\n"
          ]
        }
      ]
    },
    {
      "cell_type": "code",
      "source": [
        "# Latihan 5\n",
        "matriks = [\n",
        "    [0, 2, 3, 1],\n",
        "    [4, 7, 6, 4],\n",
        "    [7, 8, 10, 7],\n",
        "]\n",
        "\n",
        "for baris in matriks:\n",
        "    print(baris)"
      ],
      "metadata": {
        "id": "1OFbPWIZdrJx",
        "colab": {
          "base_uri": "https://localhost:8080/"
        },
        "outputId": "c493fc78-780d-4bea-e1a1-29dba2389998"
      },
      "execution_count": null,
      "outputs": [
        {
          "output_type": "stream",
          "name": "stdout",
          "text": [
            "[0, 2, 3, 1]\n",
            "[4, 7, 6, 4]\n",
            "[7, 8, 10, 7]\n"
          ]
        }
      ]
    },
    {
      "cell_type": "code",
      "source": [
        "# Mengakses elemen pada baris\n",
        "print(\"Elemen pada baris 1, kolom 2:\", matriks[0][1])\n",
        "\n",
        "# Mengakses elemen terakhir (baris ke-3, kolom ke-3)\n",
        "print(\"Elemen terakhir:\", matriks[-1][-1])"
      ],
      "metadata": {
        "id": "S6CSsgf5et9p",
        "colab": {
          "base_uri": "https://localhost:8080/"
        },
        "outputId": "934d2d44-fc8f-41fc-cdb3-7316ebe6030c"
      },
      "execution_count": null,
      "outputs": [
        {
          "output_type": "stream",
          "name": "stdout",
          "text": [
            "Elemen pada baris 1, kolom 2: 2\n",
            "Elemen terakhir: 7\n"
          ]
        }
      ]
    },
    {
      "cell_type": "code",
      "source": [
        "# Latihan 6\n",
        "print(\"Elemen pada baris 2, kolom 4:\", matriks[1][3])\n"
      ],
      "metadata": {
        "id": "EJl9XAdQiAoI",
        "colab": {
          "base_uri": "https://localhost:8080/"
        },
        "outputId": "cdbcf9bd-2ecd-4a2b-9e21-d62dda0eff31"
      },
      "execution_count": null,
      "outputs": [
        {
          "output_type": "stream",
          "name": "stdout",
          "text": [
            "Elemen pada baris 2, kolom 4: 4\n"
          ]
        }
      ]
    },
    {
      "cell_type": "code",
      "source": [
        "# Menambahkan baris baru\n",
        "matriks.append([10, 11, 12])\n",
        "print(\"Array setelah menambahkan baris baru:\", matriks)"
      ],
      "metadata": {
        "id": "Gocv_okOiIei",
        "colab": {
          "base_uri": "https://localhost:8080/"
        },
        "outputId": "f1678d0b-a6e3-4470-9f97-4e602a1be441"
      },
      "execution_count": null,
      "outputs": [
        {
          "output_type": "stream",
          "name": "stdout",
          "text": [
            "Array setelah menambahkan baris baru: [[0, 2, 3, 1], [4, 7, 6, 4], [7, 8, 10, 7], [10, 11, 12]]\n"
          ]
        }
      ]
    },
    {
      "cell_type": "code",
      "source": [
        "# Menambahkan elemen pada baris ke-2\n",
        "matriks[1].append(99)\n",
        "print(\"Array setelah menambahkan elemen di baris ke-2:\", matriks)"
      ],
      "metadata": {
        "id": "Jd5F3PNh5Ott",
        "colab": {
          "base_uri": "https://localhost:8080/"
        },
        "outputId": "2547ef94-331f-457a-d117-148906ffd67a"
      },
      "execution_count": null,
      "outputs": [
        {
          "output_type": "stream",
          "name": "stdout",
          "text": [
            "Array setelah menambahkan elemen di baris ke-2: [[0, 2, 3, 1], [4, 7, 6, 4, 99], [7, 8, 10, 7], [10, 11, 12]]\n"
          ]
        }
      ]
    },
    {
      "cell_type": "code",
      "source": [
        "# Latihan 7\n",
        "matriks.append([1, 9, 20, 5])\n",
        "print(\"Array setelah menambahkan baris baru:\", matriks)"
      ],
      "metadata": {
        "id": "wCYiNHz75bhA",
        "colab": {
          "base_uri": "https://localhost:8080/"
        },
        "outputId": "ade643aa-906c-487e-d80e-e4eca23de1c6"
      },
      "execution_count": null,
      "outputs": [
        {
          "output_type": "stream",
          "name": "stdout",
          "text": [
            "Array setelah menambahkan baris baru: [[0, 2, 3, 1], [4, 7, 6, 4, 99], [7, 8, 10, 7], [10, 11, 12], [1, 9, 20, 5]]\n"
          ]
        }
      ]
    },
    {
      "cell_type": "code",
      "source": [
        "# Menghapus elemen tertentu dari baris ke-1\n",
        "matriks[0].remove(2)\n",
        "print(\"Array setelah menghapus elemen 2 dari baris pertama:\", matriks)"
      ],
      "metadata": {
        "id": "K8L0KHop6Tis",
        "colab": {
          "base_uri": "https://localhost:8080/"
        },
        "outputId": "c3e6cb5f-743e-40e8-cf19-e56b004deb7f"
      },
      "execution_count": null,
      "outputs": [
        {
          "output_type": "stream",
          "name": "stdout",
          "text": [
            "Array setelah menghapus elemen 2 dari baris pertama: [[0, 3, 1], [4, 7, 6, 4, 99], [7, 8, 10, 7], [10, 11, 12], [1, 9, 20, 5]]\n"
          ]
        }
      ]
    },
    {
      "cell_type": "code",
      "source": [
        "# Menghaous elemen pada indeks tertentu dari baris ke-2\n",
        "matriks[1].pop(1)\n",
        "print(\"Array setelah menghapus elemen indeks ke-1 dari baris ke-2:\", matriks)"
      ],
      "metadata": {
        "id": "IISLiEqV6slG",
        "colab": {
          "base_uri": "https://localhost:8080/"
        },
        "outputId": "6eb5087c-a137-4465-db1b-969a28b2a47c"
      },
      "execution_count": null,
      "outputs": [
        {
          "output_type": "stream",
          "name": "stdout",
          "text": [
            "Array setelah menghapus elemen indeks ke-1 dari baris ke-2: [[0, 3, 1], [4, 6, 4, 99], [7, 8, 10, 7], [10, 11, 12], [1, 9, 20, 5]]\n"
          ]
        }
      ]
    },
    {
      "cell_type": "code",
      "source": [
        "# Latihan 8\n",
        "matriks[4].pop(3)\n",
        "print(\"Array setelah menghapus elemen ke-3 dari baris terakhir:\", matriks)"
      ],
      "metadata": {
        "id": "sCk6VzYk7M2g",
        "colab": {
          "base_uri": "https://localhost:8080/"
        },
        "outputId": "7da0117d-bbb8-487c-f078-5486b3e1fb65"
      },
      "execution_count": null,
      "outputs": [
        {
          "output_type": "stream",
          "name": "stdout",
          "text": [
            "Array setelah menghapus elemen ke-3 dari baris terakhir: [[0, 3, 1], [4, 6, 4, 99], [7, 8, 10, 7], [10, 11, 12], [1, 9, 20]]\n"
          ]
        }
      ]
    },
    {
      "cell_type": "code",
      "source": [
        "# Mengubah elemen pada baris ke-3, kolom ke-2\n",
        "matriks[2][1] = 88\n",
        "print(\"Array setelah mengubah elemen pada baris ke-3, kolom ke-2:\", matriks)"
      ],
      "metadata": {
        "id": "BLUczOdv-csw",
        "colab": {
          "base_uri": "https://localhost:8080/"
        },
        "outputId": "0ebbee04-49f0-4392-a025-b970d06b0da3"
      },
      "execution_count": null,
      "outputs": [
        {
          "output_type": "stream",
          "name": "stdout",
          "text": [
            "Array setelah mengubah elemen pada baris ke-3, kolom ke-2: [[0, 3, 1], [4, 6, 4, 99], [7, 88, 10, 7], [10, 11, 12], [1, 9, 20]]\n"
          ]
        }
      ]
    },
    {
      "cell_type": "code",
      "source": [
        "# Latihan 9\n",
        "matriks[4][2] = 14\n",
        "print(\"Array setelah mengubah elemen baris ke-5, kolom ke-3:\", matriks)"
      ],
      "metadata": {
        "id": "cafu1AZI-24x",
        "colab": {
          "base_uri": "https://localhost:8080/"
        },
        "outputId": "244bad39-e544-423a-bbbf-923749c5dc28"
      },
      "execution_count": null,
      "outputs": [
        {
          "output_type": "stream",
          "name": "stdout",
          "text": [
            "Array setelah mengubah elemen baris ke-5, kolom ke-3: [[0, 3, 1], [4, 6, 4, 99], [7, 88, 10, 7], [10, 11, 12], [1, 9, 14]]\n"
          ]
        }
      ]
    },
    {
      "cell_type": "code",
      "source": [
        "belanja = [\"Beras\", \"Gula\", \"Minyak\"]\n",
        "belanja.append(\"Teh\")\n",
        "belanja.remove(\"Gula\")\n",
        "print(\"Daftar belanja terbaru:\", belanja)"
      ],
      "metadata": {
        "id": "wXBsBr6K_XGe",
        "colab": {
          "base_uri": "https://localhost:8080/"
        },
        "outputId": "3fa7d5ce-2954-453a-b8af-4f81e6902602"
      },
      "execution_count": null,
      "outputs": [
        {
          "output_type": "stream",
          "name": "stdout",
          "text": [
            "Daftar belanja terbaru: ['Beras', 'Minyak', 'Teh']\n"
          ]
        }
      ]
    },
    {
      "cell_type": "code",
      "source": [
        "# Latihan 10\n",
        "belanja = [\"Baju\", \"Celana\", \"Rok\", \"Jilbab\"]\n",
        "belanja.append(\"Tas\")\n",
        "belanja.append(\"Skincare\")\n",
        "belanja.append(\"Dimsum\")\n",
        "belanja.remove(\"Rok\")\n",
        "print(\"Daftar belanja terbaru:\", belanja)"
      ],
      "metadata": {
        "id": "6NCqa8RsB8BF",
        "colab": {
          "base_uri": "https://localhost:8080/"
        },
        "outputId": "267b7c7a-44b4-4a5c-c291-0547c0c9a5df"
      },
      "execution_count": null,
      "outputs": [
        {
          "output_type": "stream",
          "name": "stdout",
          "text": [
            "Daftar belanja terbaru: ['Baju', 'Celana', 'Jilbab', 'Tas', 'Skincare', 'Dimsum']\n"
          ]
        }
      ]
    }
  ]
}