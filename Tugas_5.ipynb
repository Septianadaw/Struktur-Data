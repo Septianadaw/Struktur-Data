{
  "nbformat": 4,
  "nbformat_minor": 0,
  "metadata": {
    "colab": {
      "provenance": [],
      "authorship_tag": "ABX9TyMXIlkIrpNsK7Mwzh0JnYd8",
      "include_colab_link": true
    },
    "kernelspec": {
      "name": "python3",
      "display_name": "Python 3"
    },
    "language_info": {
      "name": "python"
    }
  },
  "cells": [
    {
      "cell_type": "markdown",
      "metadata": {
        "id": "view-in-github",
        "colab_type": "text"
      },
      "source": [
        "<a href=\"https://colab.research.google.com/github/Septianadaw/Struktur-Data/blob/main/Tugas_5.ipynb\" target=\"_parent\"><img src=\"https://colab.research.google.com/assets/colab-badge.svg\" alt=\"Open In Colab\"/></a>"
      ]
    },
    {
      "cell_type": "code",
      "source": [
        "import random\n",
        "import math\n",
        "\n",
        "# Membuat daftar berisi 100 angka acak unik dalam rentang 1-1000\n",
        "data = sorted(random.sample(range(1, 1001), 100))\n",
        "\n",
        "# Meminta input angka target dari pengguna\n",
        "print(\"\\nDaftar angka (terurut):\", data)\n",
        "target = int(input(\"Masukkan Elemen yang ingin dicari: \"))\n",
        "print(\"Elemen yang ingin cari:\", target)\n",
        "\n",
        "# Linear Search\n",
        "def linear_search(arr, target):\n",
        "    jumlah_perbandingan = 0  # Penghitung jumlah perbandingan\n",
        "    for i in range(len(arr)):\n",
        "        jumlah_perbandingan += 1\n",
        "        if arr[i] == target:\n",
        "            return i, jumlah_perbandingan  # Kembalikan indeks dan jumlah perbandingan\n",
        "    return -1, jumlah_perbandingan  # Jika target tidak ditemukan\n",
        "\n",
        "# Binary Search\n",
        "def binary_search(arr, target):\n",
        "    low = 0\n",
        "    high = len(arr) - 1\n",
        "    jumlah_perbandingan = 0  # Penghitung jumlah perbandingan\n",
        "\n",
        "    while low <= high:\n",
        "        mid = (low + high) // 2\n",
        "        jumlah_perbandingan += 1\n",
        "        if arr[mid] == target:\n",
        "            return mid, jumlah_perbandingan  # Kembalikan indeks dan jumlah perbandingan\n",
        "        elif arr[mid] < target:\n",
        "            low = mid + 1\n",
        "        else:\n",
        "            high = mid - 1\n",
        "\n",
        "    return -1, jumlah_perbandingan\n",
        "\n",
        "def jump_search(arr, target):\n",
        "    n = len(arr)\n",
        "    step = int(math.sqrt(n))  # Ukuran langkah lompat\n",
        "    prev = 0\n",
        "    jumlah_perbandingan = 0  # Penghitung jumlah perbandingan\n",
        "\n",
        "    # Lompat hingga melewati atau menemukan blok yang mungkin berisi target\n",
        "    while prev < n and arr[min(step, n) - 1] < target:\n",
        "        jumlah_perbandingan += 1\n",
        "        prev = step\n",
        "        step += int(math.sqrt(n))\n",
        "        if prev >= n:\n",
        "            return -1, jumlah_perbandingan  # Jika melewati batas, elemen tidak ditemukan\n",
        "\n",
        "    # Linear Search dalam blok yang ditemukan\n",
        "    for i in range(prev, min(step, n)):\n",
        "        jumlah_perbandingan += 1\n",
        "        if arr[i] == target:\n",
        "            return i, jumlah_perbandingan  # Kembalikan indeks dan jumlah perbandingan\n",
        "\n",
        "    return -1, jumlah_perbandingan\n",
        "\n",
        "# Eksekusi pencarian dengan ketiga algoritma\n",
        "result_linear, jumlah_perbandingan_linear = linear_search(data, target)\n",
        "result_binary, jumlah_perbandingan_binary = binary_search(data, target)\n",
        "result_jump, jumlah_perbandingan_jump = jump_search(data, target)\n",
        "\n",
        "# Mencetak hasil pencarian\n",
        "print(\"\\n=== HASIL PENCARIAN ===\")\n",
        "print(\"Linear Search :\")\n",
        "if result_linear != -1:\n",
        "    print(f\" Elemen ditemukan di indeks {result_linear}\")\n",
        "    print(f\" Dengan {jumlah_perbandingan_linear} perbandingan\")\n",
        "else:\n",
        "    print(\" Elemen tidak ditemukan\")\n",
        "\n",
        "print(\"------------------------------------------------\")\n",
        "print(\"Binary search :\")\n",
        "if result_binary != -1:\n",
        "    print(f\" Elemen ditemukan di indeks {result_binary}\")\n",
        "    print(f\" Dengan {jumlah_perbandingan_binary} perbandingan\")\n",
        "else:\n",
        "    print(\" Elemen tidak ditemukan\")\n",
        "\n",
        "print(\"------------------------------------------------\")\n",
        "print(\"Jump search :\")\n",
        "if result_jump != -1:\n",
        "    print(f\" Elemen ditemukan di indeks {result_jump}\")\n",
        "    print(f\" Dengan {jumlah_perbandingan_jump} perbandingan\")\n",
        "else:\n",
        "    print(\" Elemen tidak ditemukan\")"
      ],
      "metadata": {
        "colab": {
          "base_uri": "https://localhost:8080/"
        },
        "id": "vARLgKxfQPlH",
        "outputId": "41bd483b-d881-4dd7-ac04-d0cb491be34c"
      },
      "execution_count": null,
      "outputs": [
        {
          "output_type": "stream",
          "name": "stdout",
          "text": [
            "\n",
            "Daftar angka (terurut): [16, 41, 56, 58, 68, 73, 82, 91, 110, 121, 133, 138, 139, 142, 143, 151, 159, 185, 192, 197, 200, 249, 256, 269, 270, 272, 291, 303, 321, 326, 327, 337, 348, 359, 365, 377, 378, 393, 397, 400, 418, 428, 432, 438, 450, 479, 484, 485, 499, 505, 514, 522, 528, 540, 547, 563, 565, 576, 577, 588, 596, 600, 603, 605, 615, 622, 625, 628, 635, 656, 676, 684, 691, 704, 716, 718, 722, 728, 749, 754, 766, 802, 812, 818, 830, 839, 843, 850, 856, 860, 864, 868, 906, 911, 931, 943, 951, 976, 984, 986]\n",
            "Masukkan Elemen yang ingin dicari: 911\n",
            "Elemen yang ingin cari: 911\n",
            "\n",
            "=== HASIL PENCARIAN ===\n",
            "Linear Search :\n",
            " Elemen ditemukan di indeks 93\n",
            " Dengan 94 perbandingan\n",
            "------------------------------------------------\n",
            "Binary search :\n",
            " Elemen ditemukan di indeks 93\n",
            " Dengan 4 perbandingan\n",
            "------------------------------------------------\n",
            "Jump search :\n",
            " Elemen ditemukan di indeks 93\n",
            " Dengan 13 perbandingan\n"
          ]
        }
      ]
    }
  ]
}