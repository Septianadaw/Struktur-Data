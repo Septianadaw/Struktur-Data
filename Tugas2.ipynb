{
  "nbformat": 4,
  "nbformat_minor": 0,
  "metadata": {
    "colab": {
      "provenance": [],
      "authorship_tag": "ABX9TyO633y9v461QmyGoTwB4ILG",
      "include_colab_link": true
    },
    "kernelspec": {
      "name": "python3",
      "display_name": "Python 3"
    },
    "language_info": {
      "name": "python"
    }
  },
  "cells": [
    {
      "cell_type": "markdown",
      "metadata": {
        "id": "view-in-github",
        "colab_type": "text"
      },
      "source": [
        "<a href=\"https://colab.research.google.com/github/Septianadaw/Struktur-Data/blob/main/Tugas2.ipynb\" target=\"_parent\"><img src=\"https://colab.research.google.com/assets/colab-badge.svg\" alt=\"Open In Colab\"/></a>"
      ]
    },
    {
      "cell_type": "code",
      "execution_count": 2,
      "metadata": {
        "colab": {
          "base_uri": "https://localhost:8080/"
        },
        "id": "OuxzKxgE5WaG",
        "outputId": "8b946a25-9f62-4b14-d27f-0c8eb9b3baae"
      },
      "outputs": [
        {
          "output_type": "stream",
          "name": "stdout",
          "text": [
            "Masukkan nama satpam ke-1: Fadlika\n",
            "Masukkan nama satpam ke-2: Setiasih\n",
            "Masukkan nama satpam ke-3: Nadhifa\n",
            "Masukkan nama satpam ke-4: Septiana\n",
            "\n",
            "📅 Jadwal Piket Satpam Selama 2 Minggu:\n",
            "\n",
            "Hari 1: Fadlika\n",
            "Hari 2: Septiana\n",
            "Hari 3: Nadhifa\n",
            "Hari 4: Setiasih\n",
            "Hari 5: Fadlika\n",
            "Hari 6: Septiana\n",
            "Hari 7: Nadhifa\n",
            "Hari 8: Setiasih\n",
            "Hari 9: Fadlika\n",
            "Hari 10: Septiana\n",
            "Hari 11: Nadhifa\n",
            "Hari 12: Setiasih\n",
            "Hari 13: Fadlika\n",
            "Hari 14: Septiana\n"
          ]
        }
      ],
      "source": [
        "# Tugas\n",
        "class SatpamNode:\n",
        "    def __init__(self, name):\n",
        "        self.name = name  # Nama satpam\n",
        "        self.next = None  # Pointer ke satpam berikutnya\n",
        "\n",
        "class CircularLinkedList:\n",
        "    def __init__(self):\n",
        "        self.head = None  # Pointer ke kepala (satpam pertama)\n",
        "\n",
        "    def add_satpam(self, name):\n",
        "        new_node = SatpamNode(name)\n",
        "        if not self.head:\n",
        "            self.head = new_node\n",
        "            self.head.next = self.head  # Circular link ke dirinya sendiri\n",
        "        else:\n",
        "            temp = self.head\n",
        "            while temp.next != self.head:\n",
        "                temp = temp.next\n",
        "            temp.next = new_node\n",
        "            new_node.next = self.head  # Membentuk circular link\n",
        "\n",
        "    def print_jadwal(self, hari_total):\n",
        "        print(\"\\n\\U0001F4C5 Jadwal Piket Satpam Selama 2 Minggu:\\n\")\n",
        "        if not self.head:\n",
        "            print(\"Tidak ada satpam dalam daftar.\")\n",
        "            return\n",
        "\n",
        "        current = self.head\n",
        "        for hari in range(1, hari_total + 1):\n",
        "            print(f\"Hari {hari}: {current.name}\")\n",
        "            for _ in range(3):  # Rotasi setiap 4 hari\n",
        "                current = current.next\n",
        "\n",
        "# Program Utama\n",
        "circular_list = CircularLinkedList()\n",
        "\n",
        "# Input nama satpam\n",
        "for i in range(1, 5):\n",
        "    name = input(f\"Masukkan nama satpam ke-{i}: \")\n",
        "    circular_list.add_satpam(name)\n",
        "\n",
        "# Cetak jadwal selama 14 hari\n",
        "circular_list.print_jadwal(14)"
      ]
    }
  ]
}