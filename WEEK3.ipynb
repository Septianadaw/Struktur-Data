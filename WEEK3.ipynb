{
  "nbformat": 4,
  "nbformat_minor": 0,
  "metadata": {
    "colab": {
      "provenance": [],
      "authorship_tag": "ABX9TyN1i5eAD+lfE7Aezhz7TIHb",
      "include_colab_link": true
    },
    "kernelspec": {
      "name": "python3",
      "display_name": "Python 3"
    },
    "language_info": {
      "name": "python"
    }
  },
  "cells": [
    {
      "cell_type": "markdown",
      "metadata": {
        "id": "view-in-github",
        "colab_type": "text"
      },
      "source": [
        "<a href=\"https://colab.research.google.com/github/Septianadaw/Struktur-Data/blob/main/WEEK3.ipynb\" target=\"_parent\"><img src=\"https://colab.research.google.com/assets/colab-badge.svg\" alt=\"Open In Colab\"/></a>"
      ]
    },
    {
      "cell_type": "code",
      "source": [
        "class Stack:\n",
        "    def __init__(self):\n",
        "        self.stack = []\n",
        "\n",
        "    def push(self, item):\n",
        "        self.stack.append(item)\n",
        "\n",
        "# Contoh penggunaan\n",
        "s = Stack()\n",
        "s.push(5)\n",
        "print(s.stack)  # Output: [5]"
      ],
      "metadata": {
        "colab": {
          "base_uri": "https://localhost:8080/"
        },
        "id": "lNfrslJzN-yP",
        "outputId": "4639b36f-751b-44eb-fc91-1a96c8450101"
      },
      "execution_count": null,
      "outputs": [
        {
          "output_type": "stream",
          "name": "stdout",
          "text": [
            "[5]\n"
          ]
        }
      ]
    },
    {
      "cell_type": "code",
      "source": [
        "class Stack:\n",
        "    def __init__(self):\n",
        "        self.stack = []\n",
        "\n",
        "    def push(self, item):\n",
        "        self.stack.append(item)\n",
        "\n",
        "    def pop(self):\n",
        "        if len(self.stack) == 0:\n",
        "            return \"Stack Kosong\"\n",
        "        return self.stack.pop()\n",
        "\n",
        "# Contoh penggunaan\n",
        "s = Stack()\n",
        "s.push(5)\n",
        "s.push(10)\n",
        "print(s.pop()) # Output: 10\n",
        "print(s.stack) # Output: [5]"
      ],
      "metadata": {
        "colab": {
          "base_uri": "https://localhost:8080/"
        },
        "id": "mWiNJUziOt2f",
        "outputId": "e7bae69f-d883-46f8-dc6b-d3fedfdadf26"
      },
      "execution_count": null,
      "outputs": [
        {
          "output_type": "stream",
          "name": "stdout",
          "text": [
            "10\n",
            "[5]\n"
          ]
        }
      ]
    },
    {
      "cell_type": "code",
      "source": [
        "class Stack:\n",
        "    def __init__(self):\n",
        "        self.stack = []\n",
        "\n",
        "    def push(self, item):\n",
        "        self.stack.append(item)\n",
        "\n",
        "    def peek(self):\n",
        "        if len(self.stack) == 0:\n",
        "            return \"Stack Kosong\"\n",
        "        return self.stack[-1]\n",
        "\n",
        "# Contoh penggunaan\n",
        "s = Stack()\n",
        "s.push(5)\n",
        "s.push(10)\n",
        "print(s.peek())  # Output: 10\n",
        "print(s.stack)   # Stack tetap [5, 10]"
      ],
      "metadata": {
        "colab": {
          "base_uri": "https://localhost:8080/"
        },
        "id": "Q8r6p0gV__BC",
        "outputId": "b6d476e5-abf3-47ee-b1f4-e3106286faed"
      },
      "execution_count": null,
      "outputs": [
        {
          "output_type": "stream",
          "name": "stdout",
          "text": [
            "10\n",
            "[5, 10]\n"
          ]
        }
      ]
    },
    {
      "cell_type": "code",
      "source": [
        "class Stack:\n",
        "    def __init__(self):\n",
        "        self.stack = []\n",
        "\n",
        "    def push(self, item):\n",
        "        self.stack.append(item)\n",
        "\n",
        "    def is_empty(self):\n",
        "        return len(self.stack) == 0\n",
        "\n",
        "# Contoh penggunaan\n",
        "s = Stack()\n",
        "print(s.is_empty())  # Output: True\n",
        "s.push(5)\n",
        "print(s.is_empty())  # Output: False"
      ],
      "metadata": {
        "colab": {
          "base_uri": "https://localhost:8080/"
        },
        "id": "rDnDUFPBAdPe",
        "outputId": "13a31ee7-bc33-45fb-8fb1-4d596fda56b1"
      },
      "execution_count": null,
      "outputs": [
        {
          "output_type": "stream",
          "name": "stdout",
          "text": [
            "True\n",
            "False\n"
          ]
        }
      ]
    },
    {
      "cell_type": "code",
      "source": [
        "class TextEditor:\n",
        "    def __init__(self):\n",
        "        self.history = []\n",
        "\n",
        "    def write(self, text):\n",
        "        self.history.append(text)\n",
        "\n",
        "    def undo(self):\n",
        "        if self.history:\n",
        "            return f\"Undo: Menghapus '{self.history.pop()}'\"\n",
        "        return \"Tidak ada yang bisa di-undo\"\n",
        "\n",
        "# Contoh penggunaan\n",
        "editor = TextEditor()\n",
        "editor.write(\"Halo, ini teks pertama.\")\n",
        "editor.write(\"Ini teks kedua.\")\n",
        "editor.write(\"Ini teks ketiga.\")\n",
        "\n",
        "print(editor.undo())  # Output: Undo: Menghapus 'Ini teks ketiga.'\n",
        "print(editor.undo())  # Output: Undo: Menghapus 'Ini teks kedua.'"
      ],
      "metadata": {
        "colab": {
          "base_uri": "https://localhost:8080/"
        },
        "id": "zcaXDVWEFsQT",
        "outputId": "39186b8a-de17-4469-c7de-8350b9ce5669"
      },
      "execution_count": null,
      "outputs": [
        {
          "output_type": "stream",
          "name": "stdout",
          "text": [
            "Undo: Menghapus 'Ini teks ketiga.'\n",
            "Undo: Menghapus 'Ini teks kedua.'\n"
          ]
        }
      ]
    },
    {
      "cell_type": "code",
      "source": [
        "# Latihan 1\n",
        "class Calculator:\n",
        "    def __init__(self, nilai_awal):\n",
        "        self.value = nilai_awal\n",
        "        self.history = []\n",
        "\n",
        "    def operate(self, operasi, angka):\n",
        "        self.history.append((self.value, operasi, angka))  # Simpan operasi dalam stack\n",
        "\n",
        "        if operasi == '+':\n",
        "            self.value += angka\n",
        "        elif operasi == '-':\n",
        "            self.value -= angka\n",
        "        elif operasi == '*':\n",
        "            self.value *= angka\n",
        "        elif operasi == '/':\n",
        "            if angka != 0:\n",
        "                self.value /= angka\n",
        "            else:\n",
        "                return \"Error: Pembagian dengan nol!\"\n",
        "        else:\n",
        "            return \"Operasi tidak valid!\"\n",
        "        return self.value\n",
        "\n",
        "    def undo(self):\n",
        "        if self.history:\n",
        "            last_value, operasi, angka = self.history.pop()\n",
        "            self.value = last_value  # Kembalikan nilai sebelum operasi terakhir\n",
        "            return f\"Undo: Operasi {operasi} {angka} dibatalkan. Nilai kembali ke {self.value}\"\n",
        "        return \"Tidak ada operasi yang bisa di-undo\"\n",
        "\n",
        "# Contoh Penggunaan\n",
        "kalkulator = Calculator(13)  # Menggunakan angka 13 sebagai nilai awal\n",
        "\n",
        "print(kalkulator.operate('+', 7))   # 13 + 7 = 20\n",
        "print(kalkulator.operate('*', 3))   # 20 * 3 = 60\n",
        "print(kalkulator.operate('-', 10))  # 60 - 10 = 50\n",
        "\n",
        "print(kalkulator.undo())  # Batalkan operasi terakhir (-10), kembali ke 60\n",
        "print(kalkulator.undo())  # Batalkan operasi sebelumnya (*3), kembali ke 20"
      ],
      "metadata": {
        "id": "UyP6MegQW59a",
        "colab": {
          "base_uri": "https://localhost:8080/"
        },
        "outputId": "650d6202-9b73-49d1-aed7-9125cb196351"
      },
      "execution_count": null,
      "outputs": [
        {
          "output_type": "stream",
          "name": "stdout",
          "text": [
            "20\n",
            "60\n",
            "50\n",
            "Undo: Operasi - 10 dibatalkan. Nilai kembali ke 60\n",
            "Undo: Operasi * 3 dibatalkan. Nilai kembali ke 20\n"
          ]
        }
      ]
    },
    {
      "cell_type": "code",
      "source": [
        "from collections import deque\n",
        "\n",
        "class BrowserHistory:\n",
        "    def __init__(self):\n",
        "        self.history = deque()\n",
        "\n",
        "    def visit(self, url):\n",
        "        self.history.append(url)\n",
        "        print(f\"Mengunjungi: {url}\")\n",
        "\n",
        "    def back(self):\n",
        "        if self.history:\n",
        "            print(f\"Kembali ke: {self.history.pop()}\")\n",
        "        else:\n",
        "            print(\"Tidak ada riwayat!\")\n",
        "\n",
        "# Contoh Penggunaan\n",
        "browser = BrowserHistory()\n",
        "browser.visit(\"google.com\")\n",
        "browser.visit(\"youtube.com\")\n",
        "browser.visit(\"github.com\")\n",
        "\n",
        "browser.back()\n",
        "browser.back()"
      ],
      "metadata": {
        "colab": {
          "base_uri": "https://localhost:8080/"
        },
        "id": "M39d2210X9EB",
        "outputId": "de2ac45f-54d0-499e-c61b-a41f9a6a4c28"
      },
      "execution_count": null,
      "outputs": [
        {
          "output_type": "stream",
          "name": "stdout",
          "text": [
            "Mengunjungi: google.com\n",
            "Mengunjungi: youtube.com\n",
            "Mengunjungi: github.com\n",
            "Kembali ke: github.com\n",
            "Kembali ke: youtube.com\n"
          ]
        }
      ]
    },
    {
      "cell_type": "code",
      "source": [
        "# Latihan 2\n",
        "from collections import deque\n",
        "\n",
        "class MobileAppHistory:\n",
        "    def __init__(self):\n",
        "        self.history = deque()\n",
        "\n",
        "    def open_feature(self, nama_fitur):\n",
        "        self.history.append(nama_fitur)\n",
        "        print(f\"Membuka fitur: {nama_fitur}\")\n",
        "\n",
        "    def back(self):\n",
        "        if self.history:\n",
        "            print(f\"Kembali ke fitur sebelumnya: {self.history.pop()}\")\n",
        "        else:\n",
        "            print(\"Tidak ada riwayat fitur!\")\n",
        "\n",
        "# Contoh Penggunaan\n",
        "app_history = MobileAppHistory()\n",
        "app_history.open_feature(\"913-Home\")\n",
        "app_history.open_feature(\"913-Settings\")\n",
        "app_history.open_feature(\"913-Profile\")\n",
        "\n",
        "app_history.back()\n",
        "app_history.back()"
      ],
      "metadata": {
        "colab": {
          "base_uri": "https://localhost:8080/"
        },
        "id": "yafrIOTFD1NN",
        "outputId": "32c69b52-8a9a-4930-9042-b1a70c0d215b"
      },
      "execution_count": null,
      "outputs": [
        {
          "output_type": "stream",
          "name": "stdout",
          "text": [
            "Membuka fitur: 913-Home\n",
            "Membuka fitur: 913-Settings\n",
            "Membuka fitur: 913-Profile\n",
            "Kembali ke fitur sebelumnya: 913-Profile\n",
            "Kembali ke fitur sebelumnya: 913-Settings\n"
          ]
        }
      ]
    },
    {
      "cell_type": "code",
      "source": [
        "from queue import LifoQueue\n",
        "\n",
        "class BackupSystem:\n",
        "    def __init__(self):\n",
        "        self.backups = LifoQueue()\n",
        "\n",
        "    def backup(self, version):\n",
        "        self.backups.put(version)\n",
        "\n",
        "    def latest_backup(self):\n",
        "        if not self.backups.empty():\n",
        "            return f\"Versi terbaru: {self.backups.queue[-1]}\"\n",
        "        return \"Tidak ada cadangan!\"\n",
        "\n",
        "# Contoh Penggunaan\n",
        "backup_system = BackupSystem()\n",
        "backup_system.backup(\"Backup_1\")\n",
        "backup_system.backup(\"Backup_2\")\n",
        "backup_system.backup(\"Backup_3\")\n",
        "\n",
        "print(backup_system.latest_backup())"
      ],
      "metadata": {
        "colab": {
          "base_uri": "https://localhost:8080/"
        },
        "id": "IHsnD6tcYfpq",
        "outputId": "1a59345b-0875-46e1-92a1-de347eeee5dd"
      },
      "execution_count": null,
      "outputs": [
        {
          "output_type": "stream",
          "name": "stdout",
          "text": [
            "Versi terbaru: Backup_3\n"
          ]
        }
      ]
    },
    {
      "cell_type": "code",
      "source": [
        "# LATIHAN 3\n",
        "from queue import LifoQueue\n",
        "\n",
        "class DraftEmailSystem:\n",
        "    def __init__(self):\n",
        "        self.drafts = LifoQueue()\n",
        "\n",
        "    def save_draft(self, draft):\n",
        "        self.drafts.put(draft)\n",
        "\n",
        "    def latest_draft(self):\n",
        "        if not self.drafts.empty():\n",
        "            return f\"Draf terbaru: {self.drafts.queue[-1]}\"\n",
        "        return \"Tidak ada draf tersimpan!\"\n",
        "\n",
        "# Contoh Penggunaan\n",
        "draft_system = DraftEmailSystem()\n",
        "draft_system.save_draft(\"SE13 - Meeting\")\n",
        "draft_system.save_draft(\"SE13 - Reminder\")\n",
        "draft_system.save_draft(\"SE13 - Proposal\")\n",
        "\n",
        "print(draft_system.latest_draft())"
      ],
      "metadata": {
        "id": "x9gE1eI7chYL",
        "colab": {
          "base_uri": "https://localhost:8080/"
        },
        "outputId": "0bc6513f-4f77-43e3-e166-500be1459ed7"
      },
      "execution_count": null,
      "outputs": [
        {
          "output_type": "stream",
          "name": "stdout",
          "text": [
            "Draf terbaru: SE13 - Proposal\n"
          ]
        }
      ]
    },
    {
      "cell_type": "code",
      "source": [
        "class CustomerService:\n",
        "    def __init__(self):\n",
        "        self.tickets = []\n",
        "\n",
        "    def add_ticket(self, ticket):\n",
        "        self.tickets.append(ticket)\n",
        "\n",
        "    def process_ticket(self):\n",
        "        if not self.is_empty():\n",
        "            return f\"Memproses tiket: {self.tickets.pop()}\"\n",
        "        return \"Tidak ada tiket yang harus diproses\"\n",
        "\n",
        "    def is_empty(self):\n",
        "        return len(self.tickets) == 0\n",
        "\n",
        "# Contoh Penggunaan\n",
        "service = CustomerService()\n",
        "service.add_ticket(\"Tiket 001\")\n",
        "service.add_ticket(\"Tiket 002\")\n",
        "\n",
        "print(service.process_ticket())\n",
        "print(service.is_empty())"
      ],
      "metadata": {
        "colab": {
          "base_uri": "https://localhost:8080/"
        },
        "id": "L0AtKxOTgF5d",
        "outputId": "6b2e1349-ba61-4024-dd0d-792b5444b715"
      },
      "execution_count": null,
      "outputs": [
        {
          "output_type": "stream",
          "name": "stdout",
          "text": [
            "Memproses tiket: Tiket 002\n",
            "False\n"
          ]
        }
      ]
    },
    {
      "cell_type": "code",
      "source": [
        "# LATIHAN 4\n",
        "class MovieTicket:\n",
        "    def __init__(self):\n",
        "        self.tickets = []\n",
        "\n",
        "    def buy_ticket(self, movie_name):\n",
        "        self.tickets.append(movie_name)\n",
        "\n",
        "    def process_ticket(self):\n",
        "        if not self.is_empty():\n",
        "            return f\"Memproses tiket: {self.tickets.pop()}\"\n",
        "        return \"Tidak ada tiket yang harus diproses\"\n",
        "\n",
        "    def is_empty(self):\n",
        "        return len(self.tickets) == 0\n",
        "\n",
        "# Contoh Penggunaan\n",
        "service = MovieTicket()\n",
        "\n",
        "# Pembelian tiket film\n",
        "service.buy_ticket(\"9 + 13\")\n",
        "service.buy_ticket(\"9 + 13\")\n",
        "service.buy_ticket(\"9 + 13\")\n",
        "\n",
        "# Menguji pemrosesan tiket\n",
        "print(service.process_ticket())\n",
        "print(service.process_ticket())\n",
        "print(service.process_ticket())\n",
        "\n",
        "# Mengecek apakah masih ada tiket yang harus diproses\n",
        "print(service.is_empty())\n"
      ],
      "metadata": {
        "colab": {
          "base_uri": "https://localhost:8080/"
        },
        "id": "OnwzntLpgmwN",
        "outputId": "82557a40-9635-4436-dc2d-d7a9202faccc"
      },
      "execution_count": null,
      "outputs": [
        {
          "output_type": "stream",
          "name": "stdout",
          "text": [
            "Memproses tiket: 9 + 13\n",
            "Memproses tiket: 9 + 13\n",
            "Memproses tiket: 9 + 13\n",
            "True\n"
          ]
        }
      ]
    }
  ]
}