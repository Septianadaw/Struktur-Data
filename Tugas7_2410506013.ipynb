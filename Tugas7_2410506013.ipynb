{
  "nbformat": 4,
  "nbformat_minor": 0,
  "metadata": {
    "colab": {
      "provenance": [],
      "authorship_tag": "ABX9TyMqagzNlI1HKYTk9S3pjJ+p",
      "include_colab_link": true
    },
    "kernelspec": {
      "name": "python3",
      "display_name": "Python 3"
    },
    "language_info": {
      "name": "python"
    }
  },
  "cells": [
    {
      "cell_type": "markdown",
      "metadata": {
        "id": "view-in-github",
        "colab_type": "text"
      },
      "source": [
        "<a href=\"https://colab.research.google.com/github/Septianadaw/Struktur-Data/blob/main/Tugas7_2410506013.ipynb\" target=\"_parent\"><img src=\"https://colab.research.google.com/assets/colab-badge.svg\" alt=\"Open In Colab\"/></a>"
      ]
    },
    {
      "cell_type": "code",
      "source": [
        "# Tugas 1\n",
        "\n",
        "# Membuat node binary tree\n",
        "class Node:\n",
        "    def __init__(self, data):\n",
        "        self.data = data\n",
        "        self.left = None\n",
        "        self.right = None\n",
        "\n",
        "# Jumlah huruf nama lengkap (tanpa spasi) = 25\n",
        "# Jumlah huruf vokal (a, i, u, e, o) = 10\n",
        "# Dua digit terakhir NPM = 13\n",
        "# Tanggal = 01, Bulan = 09\n",
        "\n",
        "# Membangun tree secara manual\n",
        "root = Node(25)             # jumlah huruf nama lengkap\n",
        "root.left = Node(10)        # jumlah huruf vokal\n",
        "root.right = Node(13)       # dua digit terakhir NPM\n",
        "root.left.left = Node(1)    # tanggal lahir\n",
        "root.right.right = Node(9)  # bulan lahir\n",
        "\n",
        "# Fungsi inorder traversal\n",
        "def inorder(node):\n",
        "    if node:\n",
        "        inorder(node.left)\n",
        "        print(node.data, end=' ')\n",
        "        inorder(node.right)\n",
        "\n",
        "# Output traversal\n",
        "print(\"Struktur Tree berdasarkan identitas saya\")\n",
        "print(\"Hasil inorder traversal dari binary tree:\")\n",
        "inorder(root)"
      ],
      "metadata": {
        "colab": {
          "base_uri": "https://localhost:8080/"
        },
        "id": "J8Lk1JsFlZwi",
        "outputId": "99c84a65-0da3-4db4-8713-545a55b972e7"
      },
      "execution_count": 1,
      "outputs": [
        {
          "output_type": "stream",
          "name": "stdout",
          "text": [
            "Struktur Tree berdasarkan identitas saya\n",
            "Hasil inorder traversal dari binary tree:\n",
            "1 10 25 13 9 "
          ]
        }
      ]
    },
    {
      "cell_type": "code",
      "execution_count": null,
      "metadata": {
        "colab": {
          "base_uri": "https://localhost:8080/"
        },
        "id": "ytDcyYTdkR4V",
        "outputId": "7c049b0f-91d3-464a-f846-e7a6d4f190a5"
      },
      "outputs": [
        {
          "output_type": "stream",
          "name": "stdout",
          "text": [
            "Inorder traversal:\n",
            "1 5 9 13 20 69 83 \n",
            "Preorder traversal:\n",
            "13 1 9 5 83 69 20 \n",
            "Postorder traversal:\n",
            "5 9 1 20 69 83 13 \n",
            "\n",
            "Hasil pencarian:\n",
            "13 ditemukan dalam tree.\n",
            "10 tidak ditemukan.\n"
          ]
        }
      ],
      "source": [
        "# Tugas 2\n",
        "\n",
        "# Membuat node untuk menyimpan data dan anak kiri/kanan\n",
        "class Node:\n",
        "    def __init__(self, data):\n",
        "        self.data = data\n",
        "        self.left = None\n",
        "        self.right = None\n",
        "\n",
        "# Membuat class untuk Binary Search Tree\n",
        "class BinarySearchTree:\n",
        "    def __init__(self):\n",
        "        self.root = None\n",
        "\n",
        "    # Fungsi untuk menyisipkan data ke dalam BST\n",
        "    def insert(self, root, data):\n",
        "        if root is None:\n",
        "            return Node(data)\n",
        "        if data < root.data:\n",
        "            root.left = self.insert(root.left, data)\n",
        "        else:\n",
        "            root.right = self.insert(root.right, data)\n",
        "        return root\n",
        "\n",
        "# Data berdasarkan identitas:\n",
        "# 3 digit terakhir NPM: 13\n",
        "# Tanggal lahir: 1 dan 9\n",
        "# ASCII 'S' = 83, 'E' = 69\n",
        "# Dua angka bebas : 20 dan 5\n",
        "data_list = [13, 1, 9, 83, 69, 20, 5]\n",
        "\n",
        "# Membuat objek BST dan menyisipkan semua data\n",
        "bst = BinarySearchTree()\n",
        "root = None\n",
        "for value in data_list:\n",
        "    root = bst.insert(root, value)\n",
        "\n",
        "# Fungsi inorder traversal (kiri, root, kanan)\n",
        "def inorder(node):\n",
        "    if node:\n",
        "        inorder(node.left)\n",
        "        print(node.data, end=' ')\n",
        "        inorder(node.right)\n",
        "\n",
        "# Fungsi preorder traversal (root, kiri, kanan)\n",
        "def preorder(node):\n",
        "    if node:\n",
        "        print(node.data, end=' ')\n",
        "        preorder(node.left)\n",
        "        preorder(node.right)\n",
        "\n",
        "# Fungsi postorder traversal (kiri, kanan, root)\n",
        "def postorder(node):\n",
        "    if node:\n",
        "        postorder(node.left)\n",
        "        postorder(node.right)\n",
        "        print(node.data, end=' ')\n",
        "\n",
        "# Menampilkan hasil traversal\n",
        "print(\"Inorder traversal:\")\n",
        "inorder(root)\n",
        "\n",
        "print(\"\\nPreorder traversal:\")\n",
        "preorder(root)\n",
        "\n",
        "print(\"\\nPostorder traversal:\")\n",
        "postorder(root)\n",
        "\n",
        "# Fungsi pencarian data dalam BST\n",
        "def search(node, key):\n",
        "    if node is None or node.data == key:\n",
        "        return node\n",
        "    if key < node.data:\n",
        "        return search(node.left, key)\n",
        "    return search(node.right, key)\n",
        "\n",
        "# Uji pencarian angka yang ada\n",
        "print(\"\\n\\nHasil pencarian:\")\n",
        "key = 13\n",
        "result = search(root, key)\n",
        "if result:\n",
        "    print(f\"{key} ditemukan dalam tree.\")\n",
        "else:\n",
        "    print(f\"{key} tidak ditemukan.\")\n",
        "\n",
        "# Uji pencarian angka yang tidak ada\n",
        "key = 10\n",
        "result = search(root, key)\n",
        "if result:\n",
        "    print(f\"{key} ditemukan dalam tree.\")\n",
        "else:\n",
        "    print(f\"{key} tidak ditemukan.\")"
      ]
    }
  ]
}